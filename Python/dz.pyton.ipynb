{
 "cells": [
  {
   "cell_type": "markdown",
   "metadata": {},
   "source": [
    "Домашнее Задание."
   ]
  },
  {
   "cell_type": "markdown",
   "metadata": {},
   "source": [
    "Задание 1."
   ]
  },
  {
   "cell_type": "code",
   "execution_count": 10,
   "metadata": {},
   "outputs": [
    {
     "data": {
      "text/plain": [
       "True"
      ]
     },
     "execution_count": 10,
     "metadata": {},
     "output_type": "execute_result"
    }
   ],
   "source": [
    "long_phrase = 'Насколько проще было бы писать программы, если бы не заказчики'\n",
    "short_phrase = '640Кб должно хватить для любых задач. Билл Гейтс (по легенде)'\n",
    "len(short_phrase) < len(long_phrase)"
   ]
  },
  {
   "cell_type": "markdown",
   "metadata": {},
   "source": [
    "Задание 2."
   ]
  },
  {
   "cell_type": "code",
   "execution_count": null,
   "metadata": {},
   "outputs": [],
   "source": [
    "byte = int(input('Введите размер файла в байтах'))\n",
    "megabyte = byte / (2**20)\n",
    "print('Объем файла равен ', megabyte , 'Mb')"
   ]
  },
  {
   "cell_type": "markdown",
   "metadata": {},
   "source": [
    "Задание 4."
   ]
  },
  {
   "cell_type": "code",
   "execution_count": null,
   "metadata": {},
   "outputs": [],
   "source": [
    "salary = int(input('Введите заработанную плату в месяц: '))\n",
    "mortgage = int(input('Введите сколько процентов от ЗП уходит на ипотеку: '))\n",
    "life = int(input('Введите сколько процентов от ЗП уходит \"на жизнь: '))\n",
    "prize = int(input('Введите сколько раз приходит премия в год: '))\n",
    "prize = salary\n",
    "mortgage_spent = (salary * 12 * mortgage) / 100\n",
    "saved = ((salary * 12) * life / 100) + prize - mortgage_spent\n",
    "print('На ипотеку было потрачено: ', mortgage_spent, 'рублей', 'Было накоплено: ', saved, 'рублей')"
   ]
  },
  {
   "cell_type": "markdown",
   "metadata": {},
   "source": [
    "Задание 3. "
   ]
  },
  {
   "cell_type": "code",
   "execution_count": null,
   "metadata": {},
   "outputs": [],
   "source": [
    "month = input('Введите месяц: ')\n",
    "date = int(input('Введите дату: '))\n",
    "if month == 'январь' and date >= 20 or month == 'февраль' and date <= 19:\n",
    "    print('Знак зодиака: Водолей')\n",
    "elif month == 'февраль' and date >= 20 or month == 'март' and date <= 20:\n",
    "    print('Знак зодиака: Рыбы')\n",
    "elif month == 'март' and date >= 21 or month == 'апрель' and date <= 19:\n",
    "    print('Знак зодиака: Овен')\n",
    "elif month == 'апрель' and date >= 20 or month == 'май' and date <= 20:\n",
    "    print('Знак зодиака: Телец')\n",
    "elif month == 'май' and date >= 21 or month == 'июнь' and date <= 20:\n",
    "    print('Знак зодиака: Близнецы')\n",
    "elif month == 'июнь' and date >= 21 or month == 'июль' and date <= 22:\n",
    "    print('Знак зодиака: Рак')\n",
    "elif month == 'июль' and date >= 23 or month == 'август' and date <= 22:\n",
    "    print('Знак зодиака: Лев')\n",
    "elif month == 'август' and date >= 23 or month == 'сентябрь' and date <= 22:\n",
    "    print('Знак зодиака: Дева')\n",
    "elif month == 'сентябрь' and date >= 23 or month == 'октябрь' and date <= 23:\n",
    "    print('Знак зодиака: Весы')\n",
    "elif month == 'октябрь' and date >= 24 or month == 'ноябрь' and date <= 22:\n",
    "    print('Знак зодиака: Скорпион')\n",
    "elif month == 'ноябрь' and date >= 23 or month == 'декабрь' and date <= 21:\n",
    "    print('Знак зодиака: Стрелец')\n",
    "elif month == 'декабрь' and date >= 21 or month == 'январь' and date <= 19:\n",
    "    print('Знак зодиака: Козерог')\n"
   ]
  },
  {
   "cell_type": "code",
   "execution_count": null,
   "metadata": {},
   "outputs": [],
   "source": []
  },
  {
   "cell_type": "code",
   "execution_count": null,
   "metadata": {},
   "outputs": [],
   "source": []
  }
 ],
 "metadata": {
  "kernelspec": {
   "display_name": "Python 3",
   "language": "python",
   "name": "python3"
  },
  "language_info": {
   "codemirror_mode": {
    "name": "ipython",
    "version": 3
   },
   "file_extension": ".py",
   "mimetype": "text/x-python",
   "name": "python",
   "nbconvert_exporter": "python",
   "pygments_lexer": "ipython3",
   "version": "3.7.6"
  }
 },
 "nbformat": 4,
 "nbformat_minor": 4
}
